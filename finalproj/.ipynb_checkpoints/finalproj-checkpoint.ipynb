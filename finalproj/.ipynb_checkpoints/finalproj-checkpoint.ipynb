{
 "cells": [
  {
   "cell_type": "markdown",
   "id": "postal-title",
   "metadata": {},
   "source": [
    "INTRODUCTION NEEDED + TOC AND OTHER STUFF"
   ]
  },
  {
   "cell_type": "code",
   "execution_count": null,
   "id": "worse-watershed",
   "metadata": {},
   "outputs": [],
   "source": [
    "import pandas as pd\n",
    "import json\n",
    "import datetime\n",
    "import numpy as np\n",
    "import matplotlib.pyplot as plt"
   ]
  },
  {
   "cell_type": "markdown",
   "id": "previous-prince",
   "metadata": {},
   "source": [
    "DATA"
   ]
  },
  {
   "cell_type": "code",
   "execution_count": null,
   "id": "corporate-berry",
   "metadata": {},
   "outputs": [],
   "source": [
    "URL = 'https://raw.githubusercontent.com/jcmack/missingpersons/master/data/merged_ca.json'\n",
    "df = pd.read_json(URL,dtype=True)"
   ]
  },
  {
   "cell_type": "code",
   "execution_count": null,
   "id": "permanent-strike",
   "metadata": {},
   "outputs": [],
   "source": [
    "df = df.transpose()"
   ]
  },
  {
   "cell_type": "code",
   "execution_count": null,
   "id": "classified-croatia",
   "metadata": {},
   "outputs": [],
   "source": [
    "df = df.convert_dtypes() #want to change so that the dates are datetimes"
   ]
  },
  {
   "cell_type": "code",
   "execution_count": null,
   "id": "removable-assist",
   "metadata": {},
   "outputs": [],
   "source": [
    "df.dtypes"
   ]
  },
  {
   "cell_type": "code",
   "execution_count": null,
   "id": "banner-carry",
   "metadata": {},
   "outputs": [],
   "source": [
    "df"
   ]
  },
  {
   "cell_type": "code",
   "execution_count": null,
   "id": "inappropriate-feature",
   "metadata": {},
   "outputs": [],
   "source": []
  }
 ],
 "metadata": {
  "kernelspec": {
   "display_name": "Python 3",
   "language": "python",
   "name": "python3"
  },
  "language_info": {
   "codemirror_mode": {
    "name": "ipython",
    "version": 3
   },
   "file_extension": ".py",
   "mimetype": "text/x-python",
   "name": "python",
   "nbconvert_exporter": "python",
   "pygments_lexer": "ipython3",
   "version": "3.8.6"
  }
 },
 "nbformat": 4,
 "nbformat_minor": 5
}
